{
 "cells": [
  {
   "cell_type": "code",
   "execution_count": 48,
   "metadata": {},
   "outputs": [],
   "source": [
    "import spotipy\n",
    "from spotipy.oauth2 import SpotifyClientCredentials\n",
    "import wikipedia"
   ]
  },
  {
   "cell_type": "code",
   "execution_count": 51,
   "metadata": {},
   "outputs": [],
   "source": [
    "spotify_keys = open('/home/mkidson/spotify_keys.txt', 'r')\n",
    "client_id = spotify_keys.readline()\n",
    "client_secret = spotify_keys.readline()\n",
    "auth_manager = SpotifyClientCredentials(client_id=client_id, client_secret=client_secret)\n",
    "sp = spotipy.Spotify(auth_manager=auth_manager)"
   ]
  },
  {
   "cell_type": "code",
   "execution_count": 52,
   "metadata": {},
   "outputs": [],
   "source": [
    "playlist = sp.playlist('https://open.spotify.com/playlist/6m6R5pBbyLkKEwjVLXT8iP?si=2bd590686c8e4374')"
   ]
  },
  {
   "cell_type": "code",
   "execution_count": 53,
   "metadata": {},
   "outputs": [
    {
     "name": "stdout",
     "output_type": "stream",
     "text": [
      "{'09VbllcPqGQJMeI4ATkq1G': {'name': 'The Other Favorites', 'spotify_url': 'https://open.spotify.com/artist/09VbllcPqGQJMeI4ATkq1G', 'track_list': ['https://open.spotify.com/track/3JPY23toFCh4uxHkdZSL2r', 'https://open.spotify.com/track/7DW4h6M99rXYPGV5twNdSp', 'https://open.spotify.com/track/4Sa6ocZ58x1UDSAfgQC9oA', 'https://open.spotify.com/track/0LPtFrlO3TvT754mX9EqOQ', 'https://open.spotify.com/track/0EjVFTJWORizfxoGqEh5JO', 'https://open.spotify.com/track/3wWmOO91R2FghjOdxq4SKR', 'https://open.spotify.com/track/1o5JwxkgSzyBHxCLeFjYkQ', 'https://open.spotify.com/track/1hn4EWc75BS6Qzmm9raWs6', 'https://open.spotify.com/track/06goTz1hDgd0NYLMg6EDf7', 'https://open.spotify.com/track/3rLmYRIpFLj1QC5KPmIjIy', 'https://open.spotify.com/track/0jH6229hGLu6JfLXFi0EEg', 'https://open.spotify.com/track/2U3bECDPYniYG2xRjdaRnP', 'https://open.spotify.com/track/0q8F5R0R9vjjBsvphPHtYp', 'https://open.spotify.com/track/19VilGWbXh4LVhg3yQpx9T', 'https://open.spotify.com/track/5JKGPEFjYdU58lJW8A214Z', 'https://open.spotify.com/track/7032PaXxyQvrVKj5aGuHJ9', 'https://open.spotify.com/track/6OiVFdiRkqq3Wx0lyrX42p', 'https://open.spotify.com/track/4MHcKLZGrpCyK2sFEiDtgE', 'https://open.spotify.com/track/4DXSU3IgHRdnLE7cxYwrAM', 'https://open.spotify.com/track/2RArQkwbB9Bx9qW3NAeWNV', 'https://open.spotify.com/track/6A8dlJjgfo3mH7TNZ65MT9', 'https://open.spotify.com/track/5JnllKGgDavKXyQ2OlLKPV', 'https://open.spotify.com/track/5z1TsJ4eSpV97xvoEsevj5', 'https://open.spotify.com/track/1DzghgeT1Ks2BnFWFxrhn6', 'https://open.spotify.com/track/0FVZY5Zt4bHbZileNTisPd', 'https://open.spotify.com/track/2huYd1S4gjpOc5XHlzoQMd', 'https://open.spotify.com/track/180oT6Gm6zhyrsUDUDyZoz', 'https://open.spotify.com/track/6TDj9d80IN0BSokRkiFgKL', 'https://open.spotify.com/track/6r8gNxlDubbCHWQqrfZux8', 'https://open.spotify.com/track/5FZ5wQF9nv3MoobK9LlyVO', 'https://open.spotify.com/track/2vfUPbUWPERWvMfMgymn28', 'https://open.spotify.com/track/2KH5loLRXyNgheGPIxSBlW']}, '1bfk97GO0DYNUjbNNJ0XIT': {'name': 'Joshua Lee Turner', 'spotify_url': 'https://open.spotify.com/artist/1bfk97GO0DYNUjbNNJ0XIT', 'track_list': ['https://open.spotify.com/track/6CMzlmFBTnXRkNAErCiLS7']}, '675tsBPpaZtqyiBwEf3ZEP': {'name': 'Watchhouse', 'spotify_url': 'https://open.spotify.com/artist/675tsBPpaZtqyiBwEf3ZEP', 'track_list': ['https://open.spotify.com/track/6VfY0sgS4j4JpFQH8kk4XA']}, '5yXAFDZNUNyO92l5WTImkO': {'name': 'Billy Bragg', 'spotify_url': 'https://open.spotify.com/artist/5yXAFDZNUNyO92l5WTImkO', 'track_list': ['https://open.spotify.com/track/6XSXcrTzgowqsQo3AioT9o']}, '0TeVWuc8Sw05X4Qkl3AA5r': {'name': 'Joe Henry', 'spotify_url': 'https://open.spotify.com/artist/0TeVWuc8Sw05X4Qkl3AA5r', 'track_list': ['https://open.spotify.com/track/6XSXcrTzgowqsQo3AioT9o']}, '6RwBVkrxTbbtS4bwxYQXcp': {'name': 'Buddy Miller', 'spotify_url': 'https://open.spotify.com/artist/6RwBVkrxTbbtS4bwxYQXcp', 'track_list': ['https://open.spotify.com/track/11AABewNEA1mYVHUUYXDvI', 'https://open.spotify.com/track/2KPALH8c8yYs4jPV55SN6o', 'https://open.spotify.com/track/3JZRzBdRPCo2j8hXKGK0vZ']}, '0K7VN4aHxHcEb7PqkfoIVA': {'name': 'Shawn Colvin', 'spotify_url': 'https://open.spotify.com/artist/0K7VN4aHxHcEb7PqkfoIVA', 'track_list': ['https://open.spotify.com/track/11AABewNEA1mYVHUUYXDvI']}, '7i36YYqKiSqVihxTcvLSBK': {'name': 'Jeffrey Foucault', 'spotify_url': 'https://open.spotify.com/artist/7i36YYqKiSqVihxTcvLSBK', 'track_list': ['https://open.spotify.com/track/4aK5HgODcMXelZga3Kwqbr']}, '2sG4zTOLvjKG1PSoOyf5Ej': {'name': 'Brandi Carlile', 'spotify_url': 'https://open.spotify.com/artist/2sG4zTOLvjKG1PSoOyf5Ej', 'track_list': ['https://open.spotify.com/track/3JZRzBdRPCo2j8hXKGK0vZ']}, '7JFtD8KnbAADBBDleIMuH7': {'name': 'The Lone Bellow', 'spotify_url': 'https://open.spotify.com/artist/7JFtD8KnbAADBBDleIMuH7', 'track_list': ['https://open.spotify.com/track/3JZRzBdRPCo2j8hXKGK0vZ']}, '6Ezyyu77f1fqfuYmwaogfe': {'name': 'James and the Shame', 'spotify_url': 'https://open.spotify.com/artist/6Ezyyu77f1fqfuYmwaogfe', 'track_list': ['https://open.spotify.com/track/4uRvtg1shMEMghNpRHRekS', 'https://open.spotify.com/track/5jjcMPstxAPUVx4jHl3Xcv', 'https://open.spotify.com/track/2V2dphulzQpKkZCcdNMY4K', 'https://open.spotify.com/track/5uBAEkI0GinxLMXvudwWbU', 'https://open.spotify.com/track/13aOcudwaaxH0PvNjcSfjO', 'https://open.spotify.com/track/0ZqZxCGeDsHVI1X1ol7JmR', 'https://open.spotify.com/track/2ddnKdOOyvSZ0Sj3AnIpow', 'https://open.spotify.com/track/73kVK4V53CKrK0gsL5XzYH', 'https://open.spotify.com/track/0OylxJAKG2lcRNDBOlaCgZ', 'https://open.spotify.com/track/0Su2AQ16pRijmqnAdmxdl0', 'https://open.spotify.com/track/3whlGsYQjhoWU3pF9wpEbC']}, '3yf23aN9drtTEXSYsxd4od': {'name': 'Chatham Rabbits', 'spotify_url': 'https://open.spotify.com/artist/3yf23aN9drtTEXSYsxd4od', 'track_list': ['https://open.spotify.com/track/6L6rokIUk3lidvxRuzrkox']}, '4OylEA2mggFkZ63eIVFNio': {'name': 'Low Gap', 'spotify_url': 'https://open.spotify.com/artist/4OylEA2mggFkZ63eIVFNio', 'track_list': ['https://open.spotify.com/track/6JWgq21TmyArFEk78TvgqV']}}\n"
     ]
    }
   ],
   "source": [
    "artists = {}        # Dictionary of artists, with key being their id\n",
    "for track in playlist['tracks']['items']:\n",
    "    track_artists = track['track']['artists']\n",
    "    for artist in track_artists:\n",
    "        # May need an if type == artists here idk\n",
    "        artist_id = artist['id']\n",
    "        artist_dict_entry = {'name': artist['name'], 'spotify_url': artist['external_urls']['spotify'], 'track_list': [track['track']['external_urls']['spotify']]}      # saves artist name, url, and the track they're on and then saves that to a \n",
    "\n",
    "        if artist_id not in artists.keys():\n",
    "            artists[artist_id] = artist_dict_entry\n",
    "        else:\n",
    "            artists[artist_id]['track_list'].append(artist_dict_entry['track_list'][0])\n",
    "            \n",
    "\n",
    "print(artists)\n",
    "# print(playlist['tracks']['items'][0]['track']['artists'][0]['name'])"
   ]
  },
  {
   "cell_type": "code",
   "execution_count": 47,
   "metadata": {},
   "outputs": [
    {
     "ename": "PageError",
     "evalue": "Page id \"bill bragg\" does not match any pages. Try another id!",
     "output_type": "error",
     "traceback": [
      "\u001b[0;31m---------------------------------------------------------------------------\u001b[0m",
      "\u001b[0;31mPageError\u001b[0m                                 Traceback (most recent call last)",
      "\u001b[1;32m/home/mkidson/gitRepos/spotify-map/test4.ipynb Cell 4\u001b[0m in \u001b[0;36m<cell line: 1>\u001b[0;34m()\u001b[0m\n\u001b[0;32m----> <a href='vscode-notebook-cell:/home/mkidson/gitRepos/spotify-map/test4.ipynb#W3sZmlsZQ%3D%3D?line=0'>1</a>\u001b[0m \u001b[39mprint\u001b[39m(wikipedia\u001b[39m.\u001b[39;49msummary(\u001b[39m'\u001b[39;49m\u001b[39mBilly Bragg\u001b[39;49m\u001b[39m'\u001b[39;49m))\n",
      "File \u001b[0;32m~/miniconda3/envs/jupyter-pyroot/lib/python3.10/site-packages/wikipedia/util.py:28\u001b[0m, in \u001b[0;36mcache.__call__\u001b[0;34m(self, *args, **kwargs)\u001b[0m\n\u001b[1;32m     26\u001b[0m   ret \u001b[39m=\u001b[39m \u001b[39mself\u001b[39m\u001b[39m.\u001b[39m_cache[key]\n\u001b[1;32m     27\u001b[0m \u001b[39melse\u001b[39;00m:\n\u001b[0;32m---> 28\u001b[0m   ret \u001b[39m=\u001b[39m \u001b[39mself\u001b[39m\u001b[39m.\u001b[39m_cache[key] \u001b[39m=\u001b[39m \u001b[39mself\u001b[39;49m\u001b[39m.\u001b[39;49mfn(\u001b[39m*\u001b[39;49margs, \u001b[39m*\u001b[39;49m\u001b[39m*\u001b[39;49mkwargs)\n\u001b[1;32m     30\u001b[0m \u001b[39mreturn\u001b[39;00m ret\n",
      "File \u001b[0;32m~/miniconda3/envs/jupyter-pyroot/lib/python3.10/site-packages/wikipedia/wikipedia.py:231\u001b[0m, in \u001b[0;36msummary\u001b[0;34m(title, sentences, chars, auto_suggest, redirect)\u001b[0m\n\u001b[1;32m    216\u001b[0m \u001b[39m'''\u001b[39;00m\n\u001b[1;32m    217\u001b[0m \u001b[39mPlain text summary of the page.\u001b[39;00m\n\u001b[1;32m    218\u001b[0m \n\u001b[0;32m   (...)\u001b[0m\n\u001b[1;32m    226\u001b[0m \u001b[39m* redirect - allow redirection without raising RedirectError\u001b[39;00m\n\u001b[1;32m    227\u001b[0m \u001b[39m'''\u001b[39;00m\n\u001b[1;32m    229\u001b[0m \u001b[39m# use auto_suggest and redirect to get the correct article\u001b[39;00m\n\u001b[1;32m    230\u001b[0m \u001b[39m# also, use page's error checking to raise DisambiguationError if necessary\u001b[39;00m\n\u001b[0;32m--> 231\u001b[0m page_info \u001b[39m=\u001b[39m page(title, auto_suggest\u001b[39m=\u001b[39;49mauto_suggest, redirect\u001b[39m=\u001b[39;49mredirect)\n\u001b[1;32m    232\u001b[0m title \u001b[39m=\u001b[39m page_info\u001b[39m.\u001b[39mtitle\n\u001b[1;32m    233\u001b[0m pageid \u001b[39m=\u001b[39m page_info\u001b[39m.\u001b[39mpageid\n",
      "File \u001b[0;32m~/miniconda3/envs/jupyter-pyroot/lib/python3.10/site-packages/wikipedia/wikipedia.py:276\u001b[0m, in \u001b[0;36mpage\u001b[0;34m(title, pageid, auto_suggest, redirect, preload)\u001b[0m\n\u001b[1;32m    273\u001b[0m     \u001b[39mexcept\u001b[39;00m \u001b[39mIndexError\u001b[39;00m:\n\u001b[1;32m    274\u001b[0m       \u001b[39m# if there is no suggestion or search results, the page doesn't exist\u001b[39;00m\n\u001b[1;32m    275\u001b[0m       \u001b[39mraise\u001b[39;00m PageError(title)\n\u001b[0;32m--> 276\u001b[0m   \u001b[39mreturn\u001b[39;00m WikipediaPage(title, redirect\u001b[39m=\u001b[39;49mredirect, preload\u001b[39m=\u001b[39;49mpreload)\n\u001b[1;32m    277\u001b[0m \u001b[39melif\u001b[39;00m pageid \u001b[39mis\u001b[39;00m \u001b[39mnot\u001b[39;00m \u001b[39mNone\u001b[39;00m:\n\u001b[1;32m    278\u001b[0m   \u001b[39mreturn\u001b[39;00m WikipediaPage(pageid\u001b[39m=\u001b[39mpageid, preload\u001b[39m=\u001b[39mpreload)\n",
      "File \u001b[0;32m~/miniconda3/envs/jupyter-pyroot/lib/python3.10/site-packages/wikipedia/wikipedia.py:299\u001b[0m, in \u001b[0;36mWikipediaPage.__init__\u001b[0;34m(self, title, pageid, redirect, preload, original_title)\u001b[0m\n\u001b[1;32m    296\u001b[0m \u001b[39melse\u001b[39;00m:\n\u001b[1;32m    297\u001b[0m   \u001b[39mraise\u001b[39;00m \u001b[39mValueError\u001b[39;00m(\u001b[39m\"\u001b[39m\u001b[39mEither a title or a pageid must be specified\u001b[39m\u001b[39m\"\u001b[39m)\n\u001b[0;32m--> 299\u001b[0m \u001b[39mself\u001b[39;49m\u001b[39m.\u001b[39;49m__load(redirect\u001b[39m=\u001b[39;49mredirect, preload\u001b[39m=\u001b[39;49mpreload)\n\u001b[1;32m    301\u001b[0m \u001b[39mif\u001b[39;00m preload:\n\u001b[1;32m    302\u001b[0m   \u001b[39mfor\u001b[39;00m prop \u001b[39min\u001b[39;00m (\u001b[39m'\u001b[39m\u001b[39mcontent\u001b[39m\u001b[39m'\u001b[39m, \u001b[39m'\u001b[39m\u001b[39msummary\u001b[39m\u001b[39m'\u001b[39m, \u001b[39m'\u001b[39m\u001b[39mimages\u001b[39m\u001b[39m'\u001b[39m, \u001b[39m'\u001b[39m\u001b[39mreferences\u001b[39m\u001b[39m'\u001b[39m, \u001b[39m'\u001b[39m\u001b[39mlinks\u001b[39m\u001b[39m'\u001b[39m, \u001b[39m'\u001b[39m\u001b[39msections\u001b[39m\u001b[39m'\u001b[39m):\n",
      "File \u001b[0;32m~/miniconda3/envs/jupyter-pyroot/lib/python3.10/site-packages/wikipedia/wikipedia.py:345\u001b[0m, in \u001b[0;36mWikipediaPage.__load\u001b[0;34m(self, redirect, preload)\u001b[0m\n\u001b[1;32m    343\u001b[0m \u001b[39mif\u001b[39;00m \u001b[39m'\u001b[39m\u001b[39mmissing\u001b[39m\u001b[39m'\u001b[39m \u001b[39min\u001b[39;00m page:\n\u001b[1;32m    344\u001b[0m   \u001b[39mif\u001b[39;00m \u001b[39mhasattr\u001b[39m(\u001b[39mself\u001b[39m, \u001b[39m'\u001b[39m\u001b[39mtitle\u001b[39m\u001b[39m'\u001b[39m):\n\u001b[0;32m--> 345\u001b[0m     \u001b[39mraise\u001b[39;00m PageError(\u001b[39mself\u001b[39m\u001b[39m.\u001b[39mtitle)\n\u001b[1;32m    346\u001b[0m   \u001b[39melse\u001b[39;00m:\n\u001b[1;32m    347\u001b[0m     \u001b[39mraise\u001b[39;00m PageError(pageid\u001b[39m=\u001b[39m\u001b[39mself\u001b[39m\u001b[39m.\u001b[39mpageid)\n",
      "\u001b[0;31mPageError\u001b[0m: Page id \"bill bragg\" does not match any pages. Try another id!"
     ]
    }
   ],
   "source": [
    "print(wikipedia.summary('Billy Bragg'))"
   ]
  }
 ],
 "metadata": {
  "kernelspec": {
   "display_name": "Python 3.10.6 ('jupyter-pyroot')",
   "language": "python",
   "name": "python3"
  },
  "language_info": {
   "codemirror_mode": {
    "name": "ipython",
    "version": 3
   },
   "file_extension": ".py",
   "mimetype": "text/x-python",
   "name": "python",
   "nbconvert_exporter": "python",
   "pygments_lexer": "ipython3",
   "version": "3.10.6"
  },
  "orig_nbformat": 4,
  "vscode": {
   "interpreter": {
    "hash": "14854149bb0762231755f978a9b8a5714ba0c7efcabafb7a2eafaa23ad2b59b0"
   }
  }
 },
 "nbformat": 4,
 "nbformat_minor": 2
}
