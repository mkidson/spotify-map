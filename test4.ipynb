{
 "cells": [
  {
   "cell_type": "code",
   "execution_count": 3,
   "metadata": {},
   "outputs": [],
   "source": [
    "import spotipy\n",
    "from spotipy.oauth2 import SpotifyClientCredentials\n",
    "\n",
    "# export SPOTIPY_CLIENT_ID='c69d58c04f2441b7a7d6aeaf5bbeb03d'\n",
    "# export SPOTIPY_CLIENT_SECRET='cfbccc98451e444e9ed686c9980f5665'\n",
    "\n",
    "auth_manager = SpotifyClientCredentials(client_id='c69d58c04f2441b7a7d6aeaf5bbeb03d', client_secret='cfbccc98451e444e9ed686c9980f5665')\n",
    "sp = spotipy.Spotify(auth_manager=auth_manager)"
   ]
  },
  {
   "cell_type": "code",
   "execution_count": 41,
   "metadata": {},
   "outputs": [],
   "source": [
    "playlist = sp.playlist('https://open.spotify.com/playlist/6m6R5pBbyLkKEwjVLXT8iP?si=2bd590686c8e4374')"
   ]
  },
  {
   "cell_type": "code",
   "execution_count": 43,
   "metadata": {},
   "outputs": [
    {
     "name": "stdout",
     "output_type": "stream",
     "text": [
      "{'09VbllcPqGQJMeI4ATkq1G': {'name': 'The Other Favorites', 'spotify_url': 'https://open.spotify.com/artist/09VbllcPqGQJMeI4ATkq1G', 'track_list': ['https://open.spotify.com/track/3JPY23toFCh4uxHkdZSL2r', 'https://open.spotify.com/track/7DW4h6M99rXYPGV5twNdSp', 'https://open.spotify.com/track/4Sa6ocZ58x1UDSAfgQC9oA', 'https://open.spotify.com/track/0LPtFrlO3TvT754mX9EqOQ', 'https://open.spotify.com/track/0EjVFTJWORizfxoGqEh5JO', 'https://open.spotify.com/track/3wWmOO91R2FghjOdxq4SKR', 'https://open.spotify.com/track/1o5JwxkgSzyBHxCLeFjYkQ', 'https://open.spotify.com/track/1hn4EWc75BS6Qzmm9raWs6', 'https://open.spotify.com/track/06goTz1hDgd0NYLMg6EDf7', 'https://open.spotify.com/track/3rLmYRIpFLj1QC5KPmIjIy', 'https://open.spotify.com/track/0jH6229hGLu6JfLXFi0EEg', 'https://open.spotify.com/track/2U3bECDPYniYG2xRjdaRnP', 'https://open.spotify.com/track/0q8F5R0R9vjjBsvphPHtYp', 'https://open.spotify.com/track/19VilGWbXh4LVhg3yQpx9T', 'https://open.spotify.com/track/5JKGPEFjYdU58lJW8A214Z', 'https://open.spotify.com/track/7032PaXxyQvrVKj5aGuHJ9', 'https://open.spotify.com/track/6OiVFdiRkqq3Wx0lyrX42p', 'https://open.spotify.com/track/4MHcKLZGrpCyK2sFEiDtgE', 'https://open.spotify.com/track/4DXSU3IgHRdnLE7cxYwrAM', 'https://open.spotify.com/track/2RArQkwbB9Bx9qW3NAeWNV', 'https://open.spotify.com/track/6A8dlJjgfo3mH7TNZ65MT9', 'https://open.spotify.com/track/5JnllKGgDavKXyQ2OlLKPV', 'https://open.spotify.com/track/5z1TsJ4eSpV97xvoEsevj5', 'https://open.spotify.com/track/1DzghgeT1Ks2BnFWFxrhn6', 'https://open.spotify.com/track/0FVZY5Zt4bHbZileNTisPd', 'https://open.spotify.com/track/2huYd1S4gjpOc5XHlzoQMd', 'https://open.spotify.com/track/180oT6Gm6zhyrsUDUDyZoz', 'https://open.spotify.com/track/6TDj9d80IN0BSokRkiFgKL', 'https://open.spotify.com/track/6r8gNxlDubbCHWQqrfZux8', 'https://open.spotify.com/track/5FZ5wQF9nv3MoobK9LlyVO', 'https://open.spotify.com/track/2vfUPbUWPERWvMfMgymn28', 'https://open.spotify.com/track/2KH5loLRXyNgheGPIxSBlW']}, '1bfk97GO0DYNUjbNNJ0XIT': {'name': 'Joshua Lee Turner', 'spotify_url': 'https://open.spotify.com/artist/1bfk97GO0DYNUjbNNJ0XIT', 'track_list': ['https://open.spotify.com/track/6CMzlmFBTnXRkNAErCiLS7']}, '675tsBPpaZtqyiBwEf3ZEP': {'name': 'Watchhouse', 'spotify_url': 'https://open.spotify.com/artist/675tsBPpaZtqyiBwEf3ZEP', 'track_list': ['https://open.spotify.com/track/6VfY0sgS4j4JpFQH8kk4XA']}, '5yXAFDZNUNyO92l5WTImkO': {'name': 'Billy Bragg', 'spotify_url': 'https://open.spotify.com/artist/5yXAFDZNUNyO92l5WTImkO', 'track_list': ['https://open.spotify.com/track/6XSXcrTzgowqsQo3AioT9o']}, '0TeVWuc8Sw05X4Qkl3AA5r': {'name': 'Joe Henry', 'spotify_url': 'https://open.spotify.com/artist/0TeVWuc8Sw05X4Qkl3AA5r', 'track_list': ['https://open.spotify.com/track/6XSXcrTzgowqsQo3AioT9o']}, '6RwBVkrxTbbtS4bwxYQXcp': {'name': 'Buddy Miller', 'spotify_url': 'https://open.spotify.com/artist/6RwBVkrxTbbtS4bwxYQXcp', 'track_list': ['https://open.spotify.com/track/11AABewNEA1mYVHUUYXDvI', 'https://open.spotify.com/track/2KPALH8c8yYs4jPV55SN6o', 'https://open.spotify.com/track/3JZRzBdRPCo2j8hXKGK0vZ']}, '0K7VN4aHxHcEb7PqkfoIVA': {'name': 'Shawn Colvin', 'spotify_url': 'https://open.spotify.com/artist/0K7VN4aHxHcEb7PqkfoIVA', 'track_list': ['https://open.spotify.com/track/11AABewNEA1mYVHUUYXDvI']}, '7i36YYqKiSqVihxTcvLSBK': {'name': 'Jeffrey Foucault', 'spotify_url': 'https://open.spotify.com/artist/7i36YYqKiSqVihxTcvLSBK', 'track_list': ['https://open.spotify.com/track/4aK5HgODcMXelZga3Kwqbr']}, '2sG4zTOLvjKG1PSoOyf5Ej': {'name': 'Brandi Carlile', 'spotify_url': 'https://open.spotify.com/artist/2sG4zTOLvjKG1PSoOyf5Ej', 'track_list': ['https://open.spotify.com/track/3JZRzBdRPCo2j8hXKGK0vZ']}, '7JFtD8KnbAADBBDleIMuH7': {'name': 'The Lone Bellow', 'spotify_url': 'https://open.spotify.com/artist/7JFtD8KnbAADBBDleIMuH7', 'track_list': ['https://open.spotify.com/track/3JZRzBdRPCo2j8hXKGK0vZ']}, '6Ezyyu77f1fqfuYmwaogfe': {'name': 'James and the Shame', 'spotify_url': 'https://open.spotify.com/artist/6Ezyyu77f1fqfuYmwaogfe', 'track_list': ['https://open.spotify.com/track/4uRvtg1shMEMghNpRHRekS', 'https://open.spotify.com/track/5jjcMPstxAPUVx4jHl3Xcv', 'https://open.spotify.com/track/2V2dphulzQpKkZCcdNMY4K', 'https://open.spotify.com/track/5uBAEkI0GinxLMXvudwWbU', 'https://open.spotify.com/track/13aOcudwaaxH0PvNjcSfjO', 'https://open.spotify.com/track/0ZqZxCGeDsHVI1X1ol7JmR', 'https://open.spotify.com/track/2ddnKdOOyvSZ0Sj3AnIpow', 'https://open.spotify.com/track/73kVK4V53CKrK0gsL5XzYH', 'https://open.spotify.com/track/0OylxJAKG2lcRNDBOlaCgZ', 'https://open.spotify.com/track/0Su2AQ16pRijmqnAdmxdl0', 'https://open.spotify.com/track/3whlGsYQjhoWU3pF9wpEbC']}, '3yf23aN9drtTEXSYsxd4od': {'name': 'Chatham Rabbits', 'spotify_url': 'https://open.spotify.com/artist/3yf23aN9drtTEXSYsxd4od', 'track_list': ['https://open.spotify.com/track/6L6rokIUk3lidvxRuzrkox']}, '4OylEA2mggFkZ63eIVFNio': {'name': 'Low Gap', 'spotify_url': 'https://open.spotify.com/artist/4OylEA2mggFkZ63eIVFNio', 'track_list': ['https://open.spotify.com/track/6JWgq21TmyArFEk78TvgqV']}}\n"
     ]
    }
   ],
   "source": [
    "artists = {}        # Dictionary of artists, with key being their id\n",
    "for track in playlist['tracks']['items']:\n",
    "    track_artists = track['track']['artists']\n",
    "    for artist in track_artists:\n",
    "        # May need an if type == artists here idk\n",
    "        artist_id = artist['id']\n",
    "        artist_dict_entry = {'name': artist['name'], 'spotify_url': artist['external_urls']['spotify'], 'track_list': [track['track']['external_urls']['spotify']]}      # saves artist name, url, and the track they're on and then saves that to a \n",
    "\n",
    "        if artist_id not in artists.keys():\n",
    "            artists[artist_id] = artist_dict_entry\n",
    "        else:\n",
    "            artists[artist_id]['track_list'].append(artist_dict_entry['track_list'][0])\n",
    "            \n",
    "\n",
    "print(artists)\n",
    "# print(playlist['tracks']['items'][0]['track']['artists'][0]['name'])"
   ]
  },
  {
   "cell_type": "code",
   "execution_count": 40,
   "metadata": {},
   "outputs": [
    {
     "name": "stdout",
     "output_type": "stream",
     "text": [
      "[{'external_urls': {'spotify': 'https://open.spotify.com/artist/459INk8vcC0ebEef82WjIK'}, 'href': 'https://api.spotify.com/v1/artists/459INk8vcC0ebEef82WjIK', 'id': '459INk8vcC0ebEef82WjIK', 'name': 'Erik Satie', 'type': 'artist', 'uri': 'spotify:artist:459INk8vcC0ebEef82WjIK'}, {'external_urls': {'spotify': 'https://open.spotify.com/artist/4x2fCu6MNErew0pb64yOBO'}, 'href': 'https://api.spotify.com/v1/artists/4x2fCu6MNErew0pb64yOBO', 'id': '4x2fCu6MNErew0pb64yOBO', 'name': 'Philippe Entremont', 'type': 'artist', 'uri': 'spotify:artist:4x2fCu6MNErew0pb64yOBO'}]\n"
     ]
    }
   ],
   "source": [
    "print(playlist['tracks']['items'][0]['track']['artists'])"
   ]
  }
 ],
 "metadata": {
  "kernelspec": {
   "display_name": "Python 3.10.6 ('jupyter-pyroot')",
   "language": "python",
   "name": "python3"
  },
  "language_info": {
   "codemirror_mode": {
    "name": "ipython",
    "version": 3
   },
   "file_extension": ".py",
   "mimetype": "text/x-python",
   "name": "python",
   "nbconvert_exporter": "python",
   "pygments_lexer": "ipython3",
   "version": "3.10.6"
  },
  "orig_nbformat": 4,
  "vscode": {
   "interpreter": {
    "hash": "14854149bb0762231755f978a9b8a5714ba0c7efcabafb7a2eafaa23ad2b59b0"
   }
  }
 },
 "nbformat": 4,
 "nbformat_minor": 2
}
