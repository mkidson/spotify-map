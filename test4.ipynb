{
 "cells": [
  {
   "cell_type": "code",
   "execution_count": 1,
   "metadata": {},
   "outputs": [
    {
     "ename": "SpotifyOauthError",
     "evalue": "No client_id. Pass it or set a SPOTIPY_CLIENT_ID environment variable.",
     "output_type": "error",
     "traceback": [
      "\u001b[0;31m---------------------------------------------------------------------------\u001b[0m",
      "\u001b[0;31mSpotifyOauthError\u001b[0m                         Traceback (most recent call last)",
      "\u001b[1;32m/home/mkidson/gitRepos/spotify-map/test4.ipynb Cell 1\u001b[0m in \u001b[0;36m<cell line: 7>\u001b[0;34m()\u001b[0m\n\u001b[1;32m      <a href='vscode-notebook-cell:/home/mkidson/gitRepos/spotify-map/test4.ipynb#W0sZmlsZQ%3D%3D?line=1'>2</a>\u001b[0m \u001b[39mfrom\u001b[39;00m \u001b[39mspotipy\u001b[39;00m\u001b[39m.\u001b[39;00m\u001b[39moauth2\u001b[39;00m \u001b[39mimport\u001b[39;00m SpotifyClientCredentials\n\u001b[1;32m      <a href='vscode-notebook-cell:/home/mkidson/gitRepos/spotify-map/test4.ipynb#W0sZmlsZQ%3D%3D?line=3'>4</a>\u001b[0m \u001b[39m# export SPOTIPY_CLIENT_ID='c69d58c04f2441b7a7d6aeaf5bbeb03d'\u001b[39;00m\n\u001b[1;32m      <a href='vscode-notebook-cell:/home/mkidson/gitRepos/spotify-map/test4.ipynb#W0sZmlsZQ%3D%3D?line=4'>5</a>\u001b[0m \u001b[39m# export SPOTIPY_CLIENT_SECRET='cfbccc98451e444e9ed686c9980f5665'\u001b[39;00m\n\u001b[0;32m----> <a href='vscode-notebook-cell:/home/mkidson/gitRepos/spotify-map/test4.ipynb#W0sZmlsZQ%3D%3D?line=6'>7</a>\u001b[0m auth_manager \u001b[39m=\u001b[39m SpotifyClientCredentials()\n\u001b[1;32m      <a href='vscode-notebook-cell:/home/mkidson/gitRepos/spotify-map/test4.ipynb#W0sZmlsZQ%3D%3D?line=7'>8</a>\u001b[0m sp \u001b[39m=\u001b[39m spotipy\u001b[39m.\u001b[39mSpotify(auth_manager\u001b[39m=\u001b[39mauth_manager)\n",
      "File \u001b[0;32m~/.local/lib/python3.10/site-packages/spotipy/oauth2.py:201\u001b[0m, in \u001b[0;36mSpotifyClientCredentials.__init__\u001b[0;34m(self, client_id, client_secret, proxies, requests_session, requests_timeout, cache_handler)\u001b[0m\n\u001b[1;32m    172\u001b[0m \u001b[39m\"\"\"\u001b[39;00m\n\u001b[1;32m    173\u001b[0m \u001b[39mCreates a Client Credentials Flow Manager.\u001b[39;00m\n\u001b[1;32m    174\u001b[0m \n\u001b[0;32m   (...)\u001b[0m\n\u001b[1;32m    196\u001b[0m \n\u001b[1;32m    197\u001b[0m \u001b[39m\"\"\"\u001b[39;00m\n\u001b[1;32m    199\u001b[0m \u001b[39msuper\u001b[39m(SpotifyClientCredentials, \u001b[39mself\u001b[39m)\u001b[39m.\u001b[39m\u001b[39m__init__\u001b[39m(requests_session)\n\u001b[0;32m--> 201\u001b[0m \u001b[39mself\u001b[39;49m\u001b[39m.\u001b[39;49mclient_id \u001b[39m=\u001b[39m client_id\n\u001b[1;32m    202\u001b[0m \u001b[39mself\u001b[39m\u001b[39m.\u001b[39mclient_secret \u001b[39m=\u001b[39m client_secret\n\u001b[1;32m    203\u001b[0m \u001b[39mself\u001b[39m\u001b[39m.\u001b[39mproxies \u001b[39m=\u001b[39m proxies\n",
      "File \u001b[0;32m~/.local/lib/python3.10/site-packages/spotipy/oauth2.py:94\u001b[0m, in \u001b[0;36mSpotifyAuthBase.client_id\u001b[0;34m(self, val)\u001b[0m\n\u001b[1;32m     92\u001b[0m \u001b[39m@client_id\u001b[39m\u001b[39m.\u001b[39msetter\n\u001b[1;32m     93\u001b[0m \u001b[39mdef\u001b[39;00m \u001b[39mclient_id\u001b[39m(\u001b[39mself\u001b[39m, val):\n\u001b[0;32m---> 94\u001b[0m     \u001b[39mself\u001b[39m\u001b[39m.\u001b[39m_client_id \u001b[39m=\u001b[39m _ensure_value(val, \u001b[39m\"\u001b[39;49m\u001b[39mclient_id\u001b[39;49m\u001b[39m\"\u001b[39;49m)\n",
      "File \u001b[0;32m~/.local/lib/python3.10/site-packages/spotipy/oauth2.py:70\u001b[0m, in \u001b[0;36m_ensure_value\u001b[0;34m(value, env_key)\u001b[0m\n\u001b[1;32m     65\u001b[0m \u001b[39mif\u001b[39;00m _val \u001b[39mis\u001b[39;00m \u001b[39mNone\u001b[39;00m:\n\u001b[1;32m     66\u001b[0m     msg \u001b[39m=\u001b[39m \u001b[39m\"\u001b[39m\u001b[39mNo \u001b[39m\u001b[39m%s\u001b[39;00m\u001b[39m. Pass it or set a \u001b[39m\u001b[39m%s\u001b[39;00m\u001b[39m environment variable.\u001b[39m\u001b[39m\"\u001b[39m \u001b[39m%\u001b[39m (\n\u001b[1;32m     67\u001b[0m         env_key,\n\u001b[1;32m     68\u001b[0m         env_val,\n\u001b[1;32m     69\u001b[0m     )\n\u001b[0;32m---> 70\u001b[0m     \u001b[39mraise\u001b[39;00m SpotifyOauthError(msg)\n\u001b[1;32m     71\u001b[0m \u001b[39mreturn\u001b[39;00m _val\n",
      "\u001b[0;31mSpotifyOauthError\u001b[0m: No client_id. Pass it or set a SPOTIPY_CLIENT_ID environment variable."
     ]
    }
   ],
   "source": [
    "import spotipy\n",
    "from spotipy.oauth2 import SpotifyClientCredentials\n",
    "\n",
    "# export SPOTIPY_CLIENT_ID='c69d58c04f2441b7a7d6aeaf5bbeb03d'\n",
    "# export SPOTIPY_CLIENT_SECRET='cfbccc98451e444e9ed686c9980f5665'\n",
    "\n",
    "auth_manager = SpotifyClientCredentials()\n",
    "sp = spotipy.Spotify(auth_manager=auth_manager)"
   ]
  }
 ],
 "metadata": {
  "kernelspec": {
   "display_name": "Python 3.10.6 ('jupyter-pyroot')",
   "language": "python",
   "name": "python3"
  },
  "language_info": {
   "codemirror_mode": {
    "name": "ipython",
    "version": 3
   },
   "file_extension": ".py",
   "mimetype": "text/x-python",
   "name": "python",
   "nbconvert_exporter": "python",
   "pygments_lexer": "ipython3",
   "version": "3.10.6"
  },
  "orig_nbformat": 4,
  "vscode": {
   "interpreter": {
    "hash": "14854149bb0762231755f978a9b8a5714ba0c7efcabafb7a2eafaa23ad2b59b0"
   }
  }
 },
 "nbformat": 4,
 "nbformat_minor": 2
}
